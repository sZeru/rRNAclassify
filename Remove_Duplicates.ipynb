{
 "cells": [
  {
   "cell_type": "code",
   "execution_count": 11,
   "id": "3d2bc5d0-876c-427f-b265-49e77f251430",
   "metadata": {},
   "outputs": [
    {
     "name": "stdout",
     "output_type": "stream",
     "text": [
      "Processing 16S_rRNA_sequences.fasta...\n"
     ]
    },
    {
     "data": {
      "application/vnd.jupyter.widget-view+json": {
       "model_id": "cb5cc03984ec45369970a939e2c427eb",
       "version_major": 2,
       "version_minor": 0
      },
      "text/plain": [
       "Processing 16S_rRNA_sequences.fasta:   0%|                                                                    …"
      ]
     },
     "metadata": {},
     "output_type": "display_data"
    },
    {
     "name": "stdout",
     "output_type": "stream",
     "text": [
      "16S_rRNA_sequences.fasta: 0 duplicates removed from 14 total records.\n",
      "16S_rRNA_sequences.fasta: 14 unique records written to 16S_rRNA_sequences_cleaned.fasta.\n",
      "==================================================\n",
      "\n",
      "Processing 18S_rRNA_sequences.fasta...\n"
     ]
    },
    {
     "data": {
      "application/vnd.jupyter.widget-view+json": {
       "model_id": "8041e3cc282442bcbb308cc4ae0ee6b3",
       "version_major": 2,
       "version_minor": 0
      },
      "text/plain": [
       "Processing 18S_rRNA_sequences.fasta:   0%|                                                                    …"
      ]
     },
     "metadata": {},
     "output_type": "display_data"
    },
    {
     "name": "stdout",
     "output_type": "stream",
     "text": [
      "18S_rRNA_sequences.fasta: 0 duplicates removed from 18 total records.\n",
      "18S_rRNA_sequences.fasta: 18 unique records written to 18S_rRNA_sequences_cleaned.fasta.\n",
      "==================================================\n",
      "\n"
     ]
    }
   ],
   "source": [
    "from Bio import SeqIO\n",
    "from tqdm.notebook import tqdm\n",
    "\n",
    "# File paths\n",
    "input_files = [\"16S_rRNA_sequences.fasta\", \"18S_rRNA_sequences.fasta\"]  # Input files\n",
    "output_files = [\"16S_rRNA_sequences_cleaned.fasta\", \"18S_rRNA_sequences_cleaned.fasta\"]  # Output files\n",
    "\n",
    "def remove_duplicates(input_file, output_file):\n",
    "    \"\"\"\n",
    "    Remove duplicate sequences from a FASTA file.\n",
    "    Sequences are considered duplicates if both their ID and sequence data match.\n",
    "    \"\"\"\n",
    "    seen_sequences = set()  # To store unique (header, sequence) tuples\n",
    "    unique_records = []  # To store unique SeqRecord objects\n",
    "    total_records = 0  # Total number of records processed\n",
    "    duplicate_count = 0  # Count of duplicates found\n",
    "\n",
    "    # Read all records and initialize tqdm for progress tracking\n",
    "    with open(input_file, \"r\") as infile:\n",
    "        records = list(SeqIO.parse(infile, \"fasta\"))  # Parse all records\n",
    "        total_records = len(records)  # Total number of records in the file\n",
    "\n",
    "        for record in tqdm(records, desc=f\"Processing {input_file}\", unit=\"record\", ncols=400):\n",
    "            identifier = (record.id, str(record.seq))  # Unique identifier: header and sequence\n",
    "            if identifier not in seen_sequences:\n",
    "                seen_sequences.add(identifier)\n",
    "                unique_records.append(record)\n",
    "            else:\n",
    "                duplicate_count += 1\n",
    "\n",
    "    # Write unique records to the output file\n",
    "    with open(output_file, \"w\") as outfile:\n",
    "        SeqIO.write(unique_records, outfile, \"fasta\")\n",
    "\n",
    "    print(f\"{input_file}: {duplicate_count} duplicates removed from {total_records} total records.\")\n",
    "    print(f\"{input_file}: {len(unique_records)} unique records written to {output_file}.\")\n",
    "\n",
    "# Process each input file and remove duplicates\n",
    "for infile, outfile in zip(input_files, output_files):\n",
    "    try:\n",
    "        print(f\"Processing {infile}...\")\n",
    "        remove_duplicates(infile, outfile)\n",
    "        print(f\"==================================================\\n\")\n",
    "    except FileNotFoundError:\n",
    "        print(f\"File not found: {infile}. Skipping...\")"
   ]
  },
  {
   "cell_type": "code",
   "execution_count": null,
   "id": "e2459d28-376b-44b1-b49b-f1ff117221e0",
   "metadata": {},
   "outputs": [],
   "source": []
  }
 ],
 "metadata": {
  "kernelspec": {
   "display_name": "Python 3 (ipykernel)",
   "language": "python",
   "name": "python3"
  },
  "language_info": {
   "codemirror_mode": {
    "name": "ipython",
    "version": 3
   },
   "file_extension": ".py",
   "mimetype": "text/x-python",
   "name": "python",
   "nbconvert_exporter": "python",
   "pygments_lexer": "ipython3",
   "version": "3.12.2"
  }
 },
 "nbformat": 4,
 "nbformat_minor": 5
}
