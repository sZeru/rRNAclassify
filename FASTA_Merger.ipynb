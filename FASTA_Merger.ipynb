{
 "cells": [
  {
   "cell_type": "code",
   "execution_count": 1,
   "id": "5ca652fc-aad5-40dd-b5ef-6ba363c55d01",
   "metadata": {},
   "outputs": [
    {
     "name": "stdout",
     "output_type": "stream",
     "text": [
      "FASTA files merged successfully into 16S_merged_sequences.fasta\n",
      "FASTA files merged successfully into 18S_merged_sequences.fasta\n"
     ]
    }
   ],
   "source": [
    "def merge_fasta(file1, file2, output_file):\n",
    "    \"\"\"\n",
    "    Merges two FASTA files into a single FASTA file.\n",
    "\n",
    "    Parameters:\n",
    "        file1 (str): Path to the first FASTA file.\n",
    "        file2 (str): Path to the second FASTA file.\n",
    "        output_file (str): Path to the output FASTA file.\n",
    "    \"\"\"\n",
    "    try:\n",
    "        # Open the output file in write mode\n",
    "        with open(output_file, 'w') as outfile:\n",
    "            # Process the first file\n",
    "            with open(file1, 'r') as infile1:\n",
    "                for line in infile1:\n",
    "                    outfile.write(line)\n",
    "            \n",
    "            # Process the second file\n",
    "            with open(file2, 'r') as infile2:\n",
    "                for line in infile2:\n",
    "                    outfile.write(line)\n",
    "        \n",
    "        print(f\"FASTA files merged successfully into {output_file}\")\n",
    "    \n",
    "    except Exception as e:\n",
    "        print(f\"An error occurred: {e}\")\n",
    "\n",
    "if __name__ == \"__main__\":\n",
    "    # Specify 16S input and output\n",
    "    fasta16s1 = \"16S_NCBI_sequences.fasta\"\n",
    "    fasta16s2 = \"16S_SILVA_sequences.fasta\"\n",
    "    output16s = \"16S_merged_sequences.fasta\"\n",
    "\n",
    "    # Specify 18S input and output\n",
    "    fasta18s1 = \"18S_NCBI_sequences.fasta\"\n",
    "    fasta18s2 = \"18S_SILVA_sequences.fasta\"\n",
    "    output18s = \"18S_merged_sequences.fasta\"\n",
    "\n",
    "    # Call the functions to merge\n",
    "    merge_fasta(fasta16s1, fasta16s2, output16s)\n",
    "    merge_fasta(fasta18s1, fasta18s2, output18s)"
   ]
  },
  {
   "cell_type": "code",
   "execution_count": null,
   "id": "b7c810ae-44b5-4693-bbef-735a64e358fd",
   "metadata": {},
   "outputs": [],
   "source": []
  }
 ],
 "metadata": {
  "kernelspec": {
   "display_name": "Python 3 (ipykernel)",
   "language": "python",
   "name": "python3"
  },
  "language_info": {
   "codemirror_mode": {
    "name": "ipython",
    "version": 3
   },
   "file_extension": ".py",
   "mimetype": "text/x-python",
   "name": "python",
   "nbconvert_exporter": "python",
   "pygments_lexer": "ipython3",
   "version": "3.12.2"
  }
 },
 "nbformat": 4,
 "nbformat_minor": 5
}
