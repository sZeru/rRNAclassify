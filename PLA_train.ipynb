{
 "cells": [
  {
   "cell_type": "code",
   "execution_count": 1,
   "id": "d1331a26-5789-4cba-bf87-0aa08bf416f7",
   "metadata": {},
   "outputs": [],
   "source": [
    "import numpy as np\n",
    "import pandas as pd\n",
    "import matplotlib.pyplot as plt\n",
    "from tqdm.notebook import tqdm\n",
    "import csv"
   ]
  },
  {
   "cell_type": "code",
   "execution_count": 15,
   "id": "fbd56732-d520-4fcb-a5e4-ed998937c248",
   "metadata": {},
   "outputs": [],
   "source": [
    "def save_weights_to_csv(weights, filename=\"weights.csv\"):\n",
    "    \"\"\"\n",
    "    Save the weights to a CSV file in a horizontal format.\n",
    "\n",
    "    Parameters:\n",
    "        weights (np.ndarray): The weights array.\n",
    "        filename (str): The name of the output CSV file. Defaults to 'weights.csv'.\n",
    "    \"\"\"\n",
    "    # Ensure weights are in a numpy array for consistency\n",
    "    weights = np.array(weights)\n",
    "    \n",
    "    with open(filename, mode='w', newline='') as file:\n",
    "        writer = csv.writer(file)\n",
    "        writer.writerow(weights)\n",
    "\n",
    "    print(f\"Weights successfully saved to {filename}\")\n",
    "\n",
    "def calculate_accuracy(w, X, Y):\n",
    "    \"\"\"\n",
    "    Calculate the accuracy of the PLA model given weights, inputs, and labels.\n",
    "\n",
    "    Args:\n",
    "    - w: Weight vector (1D NumPy array).\n",
    "    - X: Input data (2D NumPy array where each row is a data point).\n",
    "    - Y: Labels (1D NumPy array with +1 or -1 for each data point).\n",
    "\n",
    "    Returns:\n",
    "    - accuracy: The fraction of correctly classified examples (0.0 to 1.0).\n",
    "    \"\"\"\n",
    "    # Calculate predictions\n",
    "    predictions = np.sign(np.dot(X, w))\n",
    "    \n",
    "    # Count correct predictions\n",
    "    correct_predictions = np.sum(predictions == Y)\n",
    "    \n",
    "    # Calculate accuracy\n",
    "    accuracy = correct_predictions / len(Y)\n",
    "    return accuracy\n",
    "\n",
    "def process_full_file(file_path, label):\n",
    "    \"\"\"\n",
    "    Processes an entire file of boolean sequences at once.\n",
    "    \n",
    "    Args:\n",
    "    - file_path: Path to the input file.\n",
    "    - label: Classification label for sequences (+1 or -1).\n",
    "    \n",
    "    Returns:\n",
    "    - X: 2D NumPy array of boolean sequences.\n",
    "    - Y: 1D NumPy array of labels.\n",
    "    \"\"\"\n",
    "    try:\n",
    "        sequences = []\n",
    "        with open(file_path, 'r') as file:\n",
    "            for line in file:\n",
    "                line = line.strip()\n",
    "                if not line:  # Skip empty lines\n",
    "                    continue\n",
    "                sequences.append(list(map(int, line)))\n",
    "        \n",
    "        # Convert to NumPy arrays\n",
    "        X = np.array(sequences, dtype=bool)\n",
    "        Y = np.array([label] * len(sequences), dtype=int)\n",
    "        return X, Y\n",
    "    except FileNotFoundError:\n",
    "        print(f\"File not found: {file_path}\")\n",
    "        return None, None\n",
    "    except ValueError as e:\n",
    "        print(f\"Error processing file {file_path}: {e}\")\n",
    "        return None, None"
   ]
  },
  {
   "cell_type": "code",
   "execution_count": 2,
   "id": "b19162ad-a158-4bed-9ba3-b915972a0fe4",
   "metadata": {},
   "outputs": [
    {
     "name": "stdout",
     "output_type": "stream",
     "text": [
      "X shape: (31643, 9600)\n",
      "Y shape: (31643,)\n",
      "X_test shape: (7911, 9600)\n",
      "Y_test shape: (7911,)\n"
     ]
    }
   ],
   "source": [
    "if __name__ == \"__main__\":\n",
    "    positive_file = \"16S_boolean_sequences.txt\"\n",
    "    negative_file = \"18S_boolean_sequences.txt\"\n",
    "\n",
    "    # Process files\n",
    "    X_pos, Y_pos = process_full_file(positive_file, label=1)\n",
    "    X_neg, Y_neg = process_full_file(negative_file, label=-1)\n",
    "    \n",
    "    if X_pos is not None and X_neg is not None:\n",
    "        # Combine the datasets\n",
    "        X_unsplit = np.vstack((X_pos, X_neg))\n",
    "        Y_unsplit = np.hstack((Y_pos, Y_neg))\n",
    "        \n",
    "        # Randomize the order of X and Y\n",
    "        permutation = np.random.permutation(len(Y_unsplit))\n",
    "        X_unsplit = X_unsplit[permutation]\n",
    "        Y_unsplit = Y_unsplit[permutation]\n",
    "\n",
    "        # Split data: 20% for testing, 80% for training\n",
    "        split_idx = int(len(Y_unsplit) * 0.8)\n",
    "        X, X_test = X_unsplit[:split_idx], X_unsplit[split_idx:]\n",
    "        Y, Y_test = Y_unsplit[:split_idx], Y_unsplit[split_idx:]\n",
    "        \n",
    "        # Output shapes for verification\n",
    "        print(f\"X shape: {X.shape}\")\n",
    "        print(f\"Y shape: {Y.shape}\")\n",
    "        print(f\"X_test shape: {X_test.shape}\")\n",
    "        print(f\"Y_test shape: {Y_test.shape}\")\n",
    "    else:\n",
    "        print(\"Error in processing files.\")"
   ]
  },
  {
   "cell_type": "code",
   "execution_count": 8,
   "id": "796f29e5-aef8-4045-8514-055bbae7d13d",
   "metadata": {},
   "outputs": [
    {
     "name": "stdout",
     "output_type": "stream",
     "text": [
      "Initial Accuracy: 0.0\n",
      "[0. 0. 0. ... 0. 0. 0.] \n",
      "\n"
     ]
    },
    {
     "data": {
      "application/vnd.jupyter.widget-view+json": {
       "model_id": "2c4f817f1dc44d418f52ebc87226fde3",
       "version_major": 2,
       "version_minor": 0
      },
      "text/plain": [
       "Running PLA:   0%|                                                                                            …"
      ]
     },
     "metadata": {},
     "output_type": "display_data"
    },
    {
     "name": "stdout",
     "output_type": "stream",
     "text": [
      "PLT converged in 134 iterations\n",
      "[-36. -16.  18. ...   0.   0.   0.]\n",
      "Completed Accuracy: 1.0\n"
     ]
    }
   ],
   "source": [
    "# Initialize weights as zero.\n",
    "w = np.zeros(X.shape[1])\n",
    "\n",
    "# Setup PLA\n",
    "iterations = 200\n",
    "accuracy_record = []\n",
    "accuracy_record.append(calculate_accuracy(w, X, Y))\n",
    "print(\"Initial Accuracy:\",accuracy_record[0])\n",
    "print(w,f\"\\n\")\n",
    "\n",
    "# Perform PLA\n",
    "for i in tqdm(range(iterations), desc=\"Running PLA\", unit=\" Iteration\", ncols=500):\n",
    "    misclassified = 0\n",
    "    \n",
    "    # go through every item in X\n",
    "    for j in range(len(X)):\n",
    "        if np.sign(np.dot(w, X[j])) != Y[j]:\n",
    "            # update weights\n",
    "            w = w + X[j]*Y[j]\n",
    "            misclassified += 1\n",
    "            \n",
    "    accuracy_record.append((len(X)-misclassified)/len(X)) # Appends accuracy for this iteration\n",
    "    if misclassified == 0: # If we classified everything right, end early.\n",
    "        print(\"PLT converged in\", i, \"iterations\")\n",
    "        break\n",
    "\n",
    "print(w)\n",
    "print(\"Completed Accuracy:\",calculate_accuracy(w, X, Y))"
   ]
  },
  {
   "cell_type": "code",
   "execution_count": 12,
   "id": "ceffb437-21b3-4d0d-a5f0-d57c64bc82c4",
   "metadata": {},
   "outputs": [
    {
     "data": {
      "image/png": "[encoded data removed]",
      "text/plain": [
       "<Figure size 640x480 with 1 Axes>"
      ]
     },
     "metadata": {},
     "output_type": "display_data"
    }
   ],
   "source": [
    "# Select every other value from the list\n",
    "accuracy_record_reduced = accuracy_record[::2]\n",
    "\n",
    "# X values are the indices of the reduced list\n",
    "record_x_reduced = list(range(0, len(accuracy_record), 1))\n",
    "\n",
    "# Plot the graph\n",
    "plt.plot(record_x_reduced, accuracy_record, marker='', linestyle='-', color='r')\n",
    "\n",
    "# Add labels and title\n",
    "plt.xlabel(\"Iteration\")\n",
    "plt.ylabel(\"Accuracy\")\n",
    "plt.title(\"Iteration vs Accuracy\")\n",
    "plt.grid()\n",
    "\n",
    "# Display the plot\n",
    "plt.show()"
   ]
  },
  {
   "cell_type": "code",
   "execution_count": 14,
   "id": "b520487a-0113-4780-9abe-f295ccaa22fe",
   "metadata": {},
   "outputs": [
    {
     "name": "stdout",
     "output_type": "stream",
     "text": [
      "Test set accuracy: 0.9940589053217039\n"
     ]
    }
   ],
   "source": [
    "# Save and check accuracy on test set\n",
    "save_weights_to_csv(w)\n",
    "print(f\"Test set accuracy: {calculate_accuracy(w, X_test, Y_test)}\")"
   ]
  }
 ],
 "metadata": {
  "kernelspec": {
   "display_name": "Python 3 (ipykernel)",
   "language": "python",
   "name": "python3"
  },
  "language_info": {
   "codemirror_mode": {
    "name": "ipython",
    "version": 3
   },
   "file_extension": ".py",
   "mimetype": "text/x-python",
   "name": "python",
   "nbconvert_exporter": "python",
   "pygments_lexer": "ipython3",
   "version": "3.12.2"
  }
 },
 "nbformat": 4,
 "nbformat_minor": 5
}
