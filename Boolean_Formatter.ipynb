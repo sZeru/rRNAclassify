{
 "cells": [
  {
   "cell_type": "code",
   "execution_count": 5,
   "id": "3bf7871c-423d-4256-b83e-adec4e9c3fee",
   "metadata": {},
   "outputs": [
    {
     "data": {
      "application/vnd.jupyter.widget-view+json": {
       "model_id": "1f736625ece4426c8a97151d8a404289",
       "version_major": 2,
       "version_minor": 0
      },
      "text/plain": [
       "Converting Sequences to Boolean: 0Record [00:00, ?Record/s]"
      ]
     },
     "metadata": {},
     "output_type": "display_data"
    },
    {
     "name": "stdout",
     "output_type": "stream",
     "text": [
      "FASTA file successfully converted to boolean format: 18S_boolean_sequences.txt\n"
     ]
    },
    {
     "data": {
      "application/vnd.jupyter.widget-view+json": {
       "model_id": "93de1b1581e442589725217c9bc14883",
       "version_major": 2,
       "version_minor": 0
      },
      "text/plain": [
       "Converting Sequences to Boolean: 0Record [00:00, ?Record/s]"
      ]
     },
     "metadata": {},
     "output_type": "display_data"
    },
    {
     "name": "stdout",
     "output_type": "stream",
     "text": [
      "FASTA file successfully converted to boolean format: 16S_boolean_sequences.txt\n"
     ]
    }
   ],
   "source": [
    "from tqdm.notebook import tqdm\n",
    "\n",
    "def nucleotide_to_boolean(nucleotide):\n",
    "    \"\"\"\n",
    "    Converts a nucleotide to a 4-bit boolean representation.\n",
    "    \n",
    "    A -> 0001\n",
    "    T -> 0010\n",
    "    C -> 0100\n",
    "    G -> 1000\n",
    "    \"\"\"\n",
    "    if nucleotide == 'A':\n",
    "        return \"0001\"\n",
    "    elif nucleotide == 'T':\n",
    "        return \"0010\"\n",
    "    elif nucleotide == 'C':\n",
    "        return \"0100\"\n",
    "    elif nucleotide == 'G':\n",
    "        return \"1000\"\n",
    "    else:\n",
    "        return \"0000\"  # For padding or unexpected characters\n",
    "\n",
    "\n",
    "def convert_sequence_to_boolean(sequence):\n",
    "    \"\"\"\n",
    "    Converts a DNA sequence into a 9600-length boolean string.\n",
    "    Pads with zeros if the sequence is shorter than 2400 nucleotides.\n",
    "    \"\"\"\n",
    "    boolean_str = \"\"\n",
    "    \n",
    "    # Process each nucleotide in the sequence\n",
    "    for nucleotide in sequence:\n",
    "        boolean_str += nucleotide_to_boolean(nucleotide)\n",
    "    \n",
    "    # Calculate required padding\n",
    "    required_length = 9600\n",
    "    padding_length = required_length - len(boolean_str)\n",
    "    \n",
    "    # Add padding (zeros) if needed\n",
    "    if padding_length > 0:\n",
    "        boolean_str += \"0\" * padding_length\n",
    "    \n",
    "    return boolean_str\n",
    "\n",
    "\n",
    "def process_fasta_file(input_file, output_file):\n",
    "    \"\"\"\n",
    "    Reads a FASTA file, converts each sequence to a 9600-length boolean string,\n",
    "    and writes the result to an output file with minimal formatting.\n",
    "    \"\"\"\n",
    "    try:\n",
    "        with open(input_file, 'r') as infile, open(output_file, 'w') as outfile:\n",
    "            sequence = ''\n",
    "            \n",
    "            for line in tqdm(infile, desc=\"Converting lines to Boolean\", unit=\"line\", ncols=\"400\"):\n",
    "                line = line.strip()\n",
    "                \n",
    "                # If it's a header line (starts with '>'), process the previous sequence\n",
    "                if line.startswith('>'):\n",
    "                    if sequence:  # Process the previous sequence\n",
    "                        boolean_str = convert_sequence_to_boolean(sequence)\n",
    "                        outfile.write(boolean_str + \"\\n\")\n",
    "                    sequence = ''  # Reset the sequence\n",
    "                else:\n",
    "                    sequence += line  # Append to the current sequence\n",
    "            \n",
    "            # Process the last sequence in the file\n",
    "            if sequence:\n",
    "                boolean_str = convert_sequence_to_boolean(sequence)\n",
    "                outfile.write(boolean_str + \"\\n\")\n",
    "        \n",
    "        print(f\"FASTA file successfully converted to boolean format: {output_file}\")\n",
    "    \n",
    "    except Exception as e:\n",
    "        print(f\"An error occurred: {e}\")\n",
    "\n",
    "if __name__ == \"__main__\":\n",
    "    # Input FASTA file (merged FASTA file)\n",
    "    input_fasta = \"18S_merged_sequences.fasta\"\n",
    "    \n",
    "    # Output file for boolean-encoded sequences\n",
    "    output_file = \"18S_boolean_sequences.txt\"\n",
    "    \n",
    "    # Process the FASTA file\n",
    "    process_fasta_file(input_fasta, output_file)\n",
    "\n",
    "    # Input FASTA file (merged FASTA file)\n",
    "    input_fasta2 = \"16S_merged_sequences.fasta\"\n",
    "    \n",
    "    # Output file for boolean-encoded sequences\n",
    "    output_file2 = \"16S_boolean_sequences.txt\"\n",
    "    \n",
    "    # Process the FASTA file\n",
    "    process_fasta_file(input_fasta2, output_file2)"
   ]
  },
  {
   "cell_type": "code",
   "execution_count": null,
   "id": "e8df912d-b83f-40b5-9164-aee0804d2526",
   "metadata": {},
   "outputs": [],
   "source": []
  }
 ],
 "metadata": {
  "kernelspec": {
   "display_name": "Python 3 (ipykernel)",
   "language": "python",
   "name": "python3"
  },
  "language_info": {
   "codemirror_mode": {
    "name": "ipython",
    "version": 3
   },
   "file_extension": ".py",
   "mimetype": "text/x-python",
   "name": "python",
   "nbconvert_exporter": "python",
   "pygments_lexer": "ipython3",
   "version": "3.12.2"
  }
 },
 "nbformat": 4,
 "nbformat_minor": 5
}
